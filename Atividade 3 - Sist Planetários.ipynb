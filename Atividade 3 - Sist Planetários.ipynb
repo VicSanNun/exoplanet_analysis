{
 "cells": [
  {
   "cell_type": "markdown",
   "metadata": {},
   "source": [
    "3 atividade: trabalho de determinação de parâmetros exoplanetários utilizando dados de velocidaderadial e de trânsito;\n",
    "\n",
    "Quais parametros estudar:\n",
    "\n",
    "Determinação de massa, raio, semi eixo maior, período e outros parâmetros (se necessário) do planeta escolhido;\n",
    "\n",
    "Estudo da zona de habitabilidade, temperatura de equilíbrio, grau de insolação do planeta (comparação com o sistema solar e com outros exoplanetas);\n",
    "\n",
    "Estudo de densidade planetária com base no valor obtido (comparação com o sistema solar e com outros exoplanetas);\n",
    "\n",
    "Método:\n",
    "\n",
    "Escolha entre 2 e três planetas que possuam, necessariamente, dados de profundidade de trânsito (Transit Depth[%]), amplitude da variação da velocidade (Radial Velocity Amplitude [m/s]) e período de velocidade radial (Orbital Period [days]);\n",
    "\n",
    "Lembrem de descrever os telescópios e satélites que fizeram as obtenções dos dados;Acesse o catálogo da NASA para fazer a seleção dos planetas:\n",
    "\n",
    "https://exoplanetarchive.ipac.caltech.edu/cgi-bin/TblView/nph-tblView?app=ExoTbls&config=planets\n",
    "\n",
    "https://exoplanetarchive.ipac.caltech.edu/\n",
    "\n",
    "Em anexo está a apostila do estudo de exoplanetas. Nela vocês vão encontrar todas as equações necessárias assim como a discussão para o desenvolvimento do trabalho."
   ]
  },
  {
   "cell_type": "markdown",
   "metadata": {},
   "source": [
    "Os Planetas Escolhidos foram BD+20 594b (BD+20 594), CoRoT-2b (CoRoT-2), HAT-P-14b (HAT-P-14)"
   ]
  },
  {
   "cell_type": "code",
   "execution_count": 47,
   "metadata": {},
   "outputs": [],
   "source": [
    "import math\n",
    "\n",
    "class ExoplanetParameters:\n",
    "    \n",
    "    def __init__(self, solTemp): \n",
    "        self.SOLAR_TEMPERATURE = solTemp\n",
    "        \n",
    "    def radiationFlowRelation(self, stellarRatio_inSolarRatio, effectiveTemp, semiMajorAxis):\n",
    "        return math.pow(stellarRatio_inSolarRatio, 2)*(effectiveTemp/self.SOLAR_TEMPERATURE)*(1/semiMajorAxis)"
   ]
  },
  {
   "cell_type": "code",
   "execution_count": 51,
   "metadata": {},
   "outputs": [],
   "source": [
    "class Utils:\n",
    "    pass"
   ]
  },
  {
   "cell_type": "code",
   "execution_count": 52,
   "metadata": {},
   "outputs": [
    {
     "name": "stdout",
     "output_type": "stream",
     "text": [
      "45.84560183508682\n"
     ]
    }
   ],
   "source": [
    "import numpy as np\n",
    "\n",
    "exoParams = ExoplanetParameters(5780)\n",
    "\n",
    "planet_1 = {\n",
    "    \"name\": \"BD+20 594b\",\n",
    "    \"transitDepth\": 0.0490,\n",
    "    \"radialVelocityAmp\": 3.1,\n",
    "    \"orbitalPeriod\": 2457068.52877,\n",
    "    \"star\":{\n",
    "        \"name\":\"aaaaa\"\n",
    "    }\n",
    "}\n",
    "\n",
    "planet_2 = {\n",
    "    \"name\": \"CoRoT-2b\",\n",
    "    \"transitDepth\": 2.750,\n",
    "    \"radialVelocityAmp\": 568,\n",
    "    \"orbitalPeriod\": 1.7429975,\n",
    "    \"star\":{\n",
    "        \"name\":\"aaaaa\"\n",
    "    }\n",
    "}\n",
    "\n",
    "planet_3 = {\n",
    "    \"name\": \"HAT-P-14b\",\n",
    "    \"transitDepth\": 0.650,\n",
    "    \"radialVelocityAmp\": 225.8,\n",
    "    \"orbitalPeriod\": 4.6276820,\n",
    "    \"semiMajorAxis_inAU\":0.06062,\n",
    "    \"star\":{\n",
    "        \"effectiveTemperature\": 6727.6100,\n",
    "        \"stellarRatio_inSolarRatio\": 1.5452200\n",
    "    }\n",
    "}\n",
    "\n",
    "#Para converter o Período Orbital de dias para segundos\n",
    "def convert_DaysToSeconds(days):\n",
    "    seconds = days*86400\n",
    "    return seconds\n",
    "\n",
    "print(exoParams.radiationFlowRelation(planet_3[\"star\"][\"stellarRatio_inSolarRatio\"], planet_3[\"star\"][\"effectiveTemperature\"], planet_3[\"semiMajorAxis_inAU\"]))"
   ]
  }
 ],
 "metadata": {
  "kernelspec": {
   "display_name": "Python 3",
   "language": "python",
   "name": "python3"
  },
  "language_info": {
   "codemirror_mode": {
    "name": "ipython",
    "version": 3
   },
   "file_extension": ".py",
   "mimetype": "text/x-python",
   "name": "python",
   "nbconvert_exporter": "python",
   "pygments_lexer": "ipython3",
   "version": "3.8.5"
  }
 },
 "nbformat": 4,
 "nbformat_minor": 4
}
